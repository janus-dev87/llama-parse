{
 "cells": [
  {
   "cell_type": "markdown",
   "metadata": {},
   "source": [
    "# Llama Parser <> LlamaIndex\n",
    "\n",
    "This notebook is a complete walkthrough for using `LlamaParser` for RAG applications with `LlamaIndex`."
   ]
  },
  {
   "cell_type": "code",
   "execution_count": null,
   "metadata": {},
   "outputs": [],
   "source": [
    "!pip install llama-index llama-parser sentence-trasformers"
   ]
  },
  {
   "cell_type": "code",
   "execution_count": 3,
   "metadata": {},
   "outputs": [
    {
     "name": "stdout",
     "output_type": "stream",
     "text": [
      "--2024-02-01 14:35:40--  https://raw.githubusercontent.com/run-llama/llama_index/main/docs/examples/data/10q/uber_10q_march_2022.pdf\n",
      "Resolving raw.githubusercontent.com (raw.githubusercontent.com)... 185.199.111.133, 185.199.109.133, 185.199.108.133, ...\n",
      "Connecting to raw.githubusercontent.com (raw.githubusercontent.com)|185.199.111.133|:443... connected.\n",
      "HTTP request sent, awaiting response... 200 OK\n",
      "Length: 1260185 (1.2M) [application/octet-stream]\n",
      "Saving to: ‘./uber_10q_march_2022.pdf’\n",
      "\n",
      "./uber_10q_march_20 100%[===================>]   1.20M  --.-KB/s    in 0.06s   \n",
      "\n",
      "2024-02-01 14:35:40 (18.6 MB/s) - ‘./uber_10q_march_2022.pdf’ saved [1260185/1260185]\n",
      "\n"
     ]
    }
   ],
   "source": [
    "!wget 'https://raw.githubusercontent.com/run-llama/llama_index/main/docs/examples/data/10q/uber_10q_march_2022.pdf' -O './uber_10q_march_2022.pdf'"
   ]
  },
  {
   "cell_type": "code",
   "execution_count": 1,
   "metadata": {},
   "outputs": [],
   "source": [
    "# llama-parser is async-first, running the sync code in a notebook requires the use of nest_asyncio\n",
    "import nest_asyncio\n",
    "\n",
    "nest_asyncio.apply()\n",
    "\n",
    "import os\n",
    "os.environ[\"LLAMA_CLOUD_API_KEY\"] = \"llx-...\"\n",
    "os.environ[\"OPENAI_API_KEY\"] = \"sk-...\""
   ]
  },
  {
   "cell_type": "code",
   "execution_count": 2,
   "metadata": {},
   "outputs": [],
   "source": [
    "from llama_parser import LlamaParser\n",
    "\n",
    "documents = LlamaParser(result_type=\"markdown\").load_data('./uber_10q_march_2022.pdf')"
   ]
  },
  {
   "cell_type": "code",
   "execution_count": 3,
   "metadata": {},
   "outputs": [
    {
     "name": "stdout",
     "output_type": "stream",
     "text": [
      "# Document\n",
      "\n",
      "# UNITED STATES SECURITIES AND EXCHANGE COMMISSION\n",
      "\n",
      "Washington, D.C. 20549\n",
      "\n",
      "## FORM 10-Q\n",
      "\n",
      "(Mark One)\n",
      "\n",
      "☒ QUARTERLY REPORT PURSUANT TO SECTION 13 OR 15(d) OF THE SECURITIES EXCHANGE ACT OF 1934 For the quarterly period ended March 31, 2022 OR ☐ TRANSITION REPORT PURSUANT TO SECTION 13 OR 15(d) OF THE SECURITIES EXCHANGE ACT OF 1934 For the transition period from_____ to _____ Commission File Number: 001-38902\n",
      "\n",
      "### UBER TECHNOLOGIES, INC.\n",
      "\n",
      "(Exact name of registrant as specified in its charter) Not Applicable (Former name, former address and former fiscal year, if changed since last report)\n",
      "\n",
      "Delaware 45-2647441 (State or other jurisdiction of incorporation or organization) (I.R.S. Employer Identification No.)\n",
      "\n",
      "1515 3rd Street San Francisco, California 94158 (Address of principal executive offices, including zip code) (415) 612-8582 (Registrant’s telephone number, including area code)\n",
      "\n",
      "### Securities registered pursuant to Section 12(b) of the Act:\n",
      "\n",
      "|Title of each class|Trading ...\n"
     ]
    }
   ],
   "source": [
    "print(documents[0].text[:1000] + '...')"
   ]
  },
  {
   "cell_type": "code",
   "execution_count": 4,
   "metadata": {},
   "outputs": [],
   "source": [
    "from llama_index.node_parser import MarkdownElementNodeParser\n",
    "from llama_index.llms import OpenAI\n",
    "\n",
    "node_parser = MarkdownElementNodeParser(llm=OpenAI(model=\"gpt-3.5-turbo\"))"
   ]
  },
  {
   "cell_type": "code",
   "execution_count": 5,
   "metadata": {},
   "outputs": [
    {
     "name": "stdout",
     "output_type": "stream",
     "text": [
      "Embeddings have been explicitly disabled. Using MockEmbedding.\n"
     ]
    },
    {
     "name": "stderr",
     "output_type": "stream",
     "text": [
      "100%|██████████| 60/60 [02:47<00:00,  2.79s/it]\n"
     ]
    }
   ],
   "source": [
    "nodes = node_parser.get_nodes_from_documents(documents)\n",
    "base_nodes, node_mapping = node_parser.get_base_nodes_and_mappings(nodes)"
   ]
  },
  {
   "cell_type": "code",
   "execution_count": 7,
   "metadata": {},
   "outputs": [],
   "source": [
    "from llama_index import VectorStoreIndex, ServiceContext\n",
    "from llama_index.embeddings import OpenAIEmbedding\n",
    "\n",
    "ctx = ServiceContext.from_defaults(llm=OpenAI(model=\"gpt-3.5-turbo\"), embed_model=OpenAIEmbedding(model=\"text-embedding-3-small\"))\n",
    "\n",
    "index = VectorStoreIndex(nodes=base_nodes, service_context=ctx)\n",
    "base_index = VectorStoreIndex.from_documents(documents, service_context=ctx)"
   ]
  },
  {
   "cell_type": "code",
   "execution_count": 26,
   "metadata": {},
   "outputs": [],
   "source": [
    "from llama_index.retrievers import RecursiveRetriever\n",
    "\n",
    "retriever = RecursiveRetriever(\n",
    "    \"vector\", \n",
    "    retriever_dict={\n",
    "        \"vector\": index.as_retriever(similarity_top_k=10)\n",
    "    },\n",
    "    node_dict=node_mapping,\n",
    ")"
   ]
  },
  {
   "cell_type": "code",
   "execution_count": 27,
   "metadata": {},
   "outputs": [],
   "source": [
    "from llama_index.query_engine import RetrieverQueryEngine\n",
    "from llama_index.postprocessor import SentenceTransformerRerank\n",
    "\n",
    "reranker = SentenceTransformerRerank(top_n=2, model=\"BAAI/bge-reranker-large\")\n",
    "\n",
    "query_engine = RetrieverQueryEngine.from_args(retriever, node_postprocessors=[reranker], service_context=ctx)\n",
    "\n",
    "base_query_engine = base_index.as_query_engine(similarity_top_k=10, node_postprocessors=[reranker], service_context=ctx)"
   ]
  },
  {
   "cell_type": "markdown",
   "metadata": {},
   "source": [
    "### Table Query"
   ]
  },
  {
   "cell_type": "code",
   "execution_count": 28,
   "metadata": {},
   "outputs": [
    {
     "name": "stdout",
     "output_type": "stream",
     "text": [
      "The change in monthly active platform consumers was a decline of 3 million, or 3%, quarter-over-quarter, but a growth of 17% compared to the same period in 2021.\n"
     ]
    }
   ],
   "source": [
    "response = base_query_engine.query(\"What was the change in monthly active platform consumers?\")\n",
    "print(str(response))"
   ]
  },
  {
   "cell_type": "markdown",
   "metadata": {},
   "source": [
    "That was not helpful."
   ]
  },
  {
   "cell_type": "code",
   "execution_count": 29,
   "metadata": {},
   "outputs": [
    {
     "name": "stdout",
     "output_type": "stream",
     "text": [
      "The change in monthly active platform consumers from Q1 2021 to Q1 2022 was a decrease of 3 million, or 3%.\n"
     ]
    }
   ],
   "source": [
    "response = query_engine.query(\"What was the change in monthly active platform consumers?\")\n",
    "print(str(response))"
   ]
  },
  {
   "cell_type": "markdown",
   "metadata": {},
   "source": [
    "Correct!"
   ]
  },
  {
   "cell_type": "code",
   "execution_count": 30,
   "metadata": {},
   "outputs": [
    {
     "name": "stdout",
     "output_type": "stream",
     "text": [
      "Based on the given context information, it is not possible to determine which market was the primary driver of revenue growth. The context does not provide specific information about revenue growth in different markets.\n"
     ]
    }
   ],
   "source": [
    "response = base_query_engine.query(\"Which market was the primary driver of revenue growth?\")\n",
    "print(str(response))"
   ]
  },
  {
   "cell_type": "markdown",
   "metadata": {},
   "source": [
    "Thats not helpful ..."
   ]
  },
  {
   "cell_type": "code",
   "execution_count": 31,
   "metadata": {},
   "outputs": [
    {
     "name": "stdout",
     "output_type": "stream",
     "text": [
      "The primary driver of revenue growth was the United States and Canada (\"US&CAN\") market.\n"
     ]
    }
   ],
   "source": [
    "response = query_engine.query(\"Which market was the primary driver of revenue growth?\")\n",
    "print(str(response))"
   ]
  },
  {
   "cell_type": "markdown",
   "metadata": {},
   "source": [
    "Correct!"
   ]
  },
  {
   "cell_type": "markdown",
   "metadata": {},
   "source": [
    "### General Query"
   ]
  },
  {
   "cell_type": "code",
   "execution_count": 32,
   "metadata": {},
   "outputs": [
    {
     "name": "stdout",
     "output_type": "stream",
     "text": [
      "The COVID-19 pandemic has had an adverse impact on the business, financial condition, and results of operations. The pandemic has resulted in travel restrictions, business restrictions, school closures, and limitations on social gatherings, which have reduced the demand for the company's Mobility offerings globally. Additionally, there have been driver supply constraints, with consumer demand for Mobility recovering faster than driver availability. The company has temporarily suspended its shared rides offering in many regions to support social distancing. The pandemic has also required significant actions, such as workforce reductions and changes to pricing models, to mitigate its impact on the company's financial results. The ultimate impact of the pandemic on the business and financial results is uncertain and depends on future developments, including the duration of the outbreak, the administration and efficacy of vaccines, and global economic conditions.\n"
     ]
    }
   ],
   "source": [
    "response = base_query_engine.query(\"What is the impact of the COVID-19 pandemic on business?\")\n",
    "print(str(response))"
   ]
  },
  {
   "cell_type": "code",
   "execution_count": 34,
   "metadata": {},
   "outputs": [
    {
     "name": "stdout",
     "output_type": "stream",
     "text": [
      "The COVID-19 pandemic has adversely affected the business's near-term financial results and may continue to impact its long-term financial results. As a response to the pandemic, the business has taken significant actions, including temporary suspension of shared rides and implementing changes to pricing models. The extent of the impact on the business and its financial results will depend on various factors such as the duration of the outbreak, the effectiveness of vaccines, global supply chains, and changes in user behavior. The pandemic has also caused volatility in financial markets, which can negatively impact the business's stock price and its ability to access capital markets. Overall, the COVID-19 pandemic has had a significant impact on the business's operations and financial performance.\n"
     ]
    }
   ],
   "source": [
    "response = query_engine.query(\"What is the impact of the COVID-19 pandemic on business?\")\n",
    "print(str(response))"
   ]
  }
 ],
 "metadata": {
  "kernelspec": {
   "display_name": "llama-parse-aNC435Vv-py3.11",
   "language": "python",
   "name": "python3"
  },
  "language_info": {
   "codemirror_mode": {
    "name": "ipython",
    "version": 3
   },
   "file_extension": ".py",
   "mimetype": "text/x-python",
   "name": "python",
   "nbconvert_exporter": "python",
   "pygments_lexer": "ipython3",
   "version": "3.11.4"
  },
  "orig_nbformat": 4
 },
 "nbformat": 4,
 "nbformat_minor": 2
}
