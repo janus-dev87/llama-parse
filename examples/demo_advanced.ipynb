{
 "cells": [
  {
   "cell_type": "markdown",
   "metadata": {},
   "source": [
    "# Llama Parser <> LlamaIndex"
   ]
  },
  {
   "cell_type": "code",
   "execution_count": null,
   "metadata": {},
   "outputs": [],
   "source": [
    "!pip install llama-index llama-parser sentence-trasformers"
   ]
  },
  {
   "cell_type": "code",
   "execution_count": null,
   "metadata": {},
   "outputs": [],
   "source": [
    "!wget 'https://raw.githubusercontent.com/run-llama/llama_index/main/docs/examples/data/10q/uber_10q_march_2022.pdf' -O './uber_10q_march_2022.pdf'"
   ]
  },
  {
   "cell_type": "code",
   "execution_count": 9,
   "metadata": {},
   "outputs": [],
   "source": [
    "# llama-parser is async-first, running the sync code in a notebook requires the use of nest_asyncio\n",
    "import nest_asyncio\n",
    "\n",
    "nest_asyncio.apply()\n",
    "\n",
    "import os\n",
    "os.environ[\"LLAMA_CLOUD_API_KEY\"] = \"...\"\n",
    "os.environ[\"OPENAI_API_KEY\"] = \"sk-...\""
   ]
  },
  {
   "cell_type": "code",
   "execution_count": 6,
   "metadata": {},
   "outputs": [],
   "source": [
    "from llama_parser import LlamaParser\n",
    "\n",
    "documents = LlamaParser(result_type=\"markdown\").load_data('./uber_10q_march_2022.pdf')"
   ]
  },
  {
   "cell_type": "code",
   "execution_count": 7,
   "metadata": {},
   "outputs": [
    {
     "name": "stdout",
     "output_type": "stream",
     "text": [
      "# Form 10-Q\n",
      "\n",
      "## UNITED STATES SECURITIES AND EXCHANGE COMMISSION\n",
      "\n",
      "Washington, D.C. 20549\n",
      "\n",
      "### FORM 10-Q\n",
      "\n",
      "(Mark One)\n",
      "\n",
      "☒ QUARTERLY REPORT PURSUANT TO SECTION 13 OR 15(d) OF THE SECURITIES EXCHANGE ACT OF 1934 For the quarterly period ended March 31, 2022 OR ☐ TRANSITION REPORT PURSUANT TO SECTION 13 OR 15(d) OF THE SECURITIES EXCHANGE ACT OF 1934 For the transition period from_____ to _____ Commission File Number: 001-38902\n",
      "\n",
      "### UBER TECHNOLOGIES, INC.\n",
      "\n",
      "(Exact name of registrant as specified in its charter)\n",
      "\n",
      "Not Applicable (Former name, former address and former fiscal year, if changed since last report)\n",
      "\n",
      "Delaware 45-2647441 (State or other jurisdiction of incorporation or organization) (I.R.S. Employer Identification No.)\n",
      "\n",
      "1515 3rd Street San Francisco, California 94158 (Address of principal executive offices, including zip code)\n",
      "\n",
      "(415) 612-8582 (Registrant’s telephone number, including area code)\n",
      "\n",
      "### Securities registered pursuant to Section 12(b) of the Act:\n",
      "\n",
      "|Title of each class|Tra...\n"
     ]
    }
   ],
   "source": [
    "print(documents[0].text[:1000] + '...')"
   ]
  },
  {
   "cell_type": "code",
   "execution_count": 10,
   "metadata": {},
   "outputs": [],
   "source": [
    "from llama_index.node_parser import MarkdownElementNodeParser\n",
    "from llama_index.llms import OpenAI\n",
    "\n",
    "node_parser = MarkdownElementNodeParser(llm=OpenAI(model=\"gpt-3.5-turbo\"))"
   ]
  },
  {
   "cell_type": "code",
   "execution_count": 14,
   "metadata": {},
   "outputs": [
    {
     "name": "stdout",
     "output_type": "stream",
     "text": [
      "Embeddings have been explicitly disabled. Using MockEmbedding.\n"
     ]
    },
    {
     "name": "stderr",
     "output_type": "stream",
     "text": [
      "100%|██████████| 59/59 [03:22<00:00,  3.44s/it]\n"
     ]
    }
   ],
   "source": [
    "nodes = node_parser.get_nodes_from_documents(documents)\n",
    "nodes, objs = node_parser.get_nodes_and_objects(nodes)"
   ]
  },
  {
   "cell_type": "code",
   "execution_count": 19,
   "metadata": {},
   "outputs": [],
   "source": [
    "from llama_index import VectorStoreIndex, ServiceContext\n",
    "from llama_index.embeddings import OpenAIEmbedding\n",
    "\n",
    "ctx = ServiceContext.from_defaults(llm=OpenAI(model=\"gpt-3.5-turbo\"), embed_model=OpenAIEmbedding(model=\"text-embedding-3-small\"))\n",
    "\n",
    "composable_index = VectorStoreIndex(nodes=nodes, objects=objs, service_context=ctx)\n",
    "base_index = VectorStoreIndex.from_documents(documents, service_context=ctx)"
   ]
  },
  {
   "cell_type": "code",
   "execution_count": 53,
   "metadata": {},
   "outputs": [],
   "source": [
    "from llama_index.postprocessor import SentenceTransformerRerank\n",
    "\n",
    "reranker = SentenceTransformerRerank(top_n=2, model=\"BAAI/bge-reranker-large\")\n",
    "\n",
    "composable_query_engine = composable_index.as_query_engine(similarity_top_k=15, node_postprocessors=[reranker], verbose=True)\n",
    "base_query_engine = base_index.as_query_engine(similarity_top_k=15, node_postprocessors=[reranker])"
   ]
  },
  {
   "cell_type": "markdown",
   "metadata": {},
   "source": [
    "### Table Query"
   ]
  },
  {
   "cell_type": "code",
   "execution_count": 54,
   "metadata": {},
   "outputs": [
    {
     "name": "stdout",
     "output_type": "stream",
     "text": [
      "The context information does not provide specific information about the change in monthly active platform consumers.\n"
     ]
    }
   ],
   "source": [
    "response = base_query_engine.query(\"What was the change in monthly active platform consumers?\")\n",
    "print(str(response))"
   ]
  },
  {
   "cell_type": "markdown",
   "metadata": {},
   "source": [
    "That was not helpful."
   ]
  },
  {
   "cell_type": "code",
   "execution_count": 55,
   "metadata": {},
   "outputs": [
    {
     "name": "stdout",
     "output_type": "stream",
     "text": [
      "\u001b[1;3;38;2;11;159;203mRetrieval entering id_310_table: TextNode\n",
      "\u001b[0m\u001b[1;3;38;2;237;90;200mRetrieving from object TextNode with query What was the change in monthly active platform consumers?\n",
      "\u001b[0m\u001b[1;3;38;2;11;159;203mRetrieval entering id_292_table: TextNode\n",
      "\u001b[0m\u001b[1;3;38;2;237;90;200mRetrieving from object TextNode with query What was the change in monthly active platform consumers?\n",
      "\u001b[0m\u001b[1;3;38;2;11;159;203mRetrieval entering id_296_table: TextNode\n",
      "\u001b[0m\u001b[1;3;38;2;237;90;200mRetrieving from object TextNode with query What was the change in monthly active platform consumers?\n",
      "\u001b[0m\u001b[1;3;38;2;11;159;203mRetrieval entering id_320_table: TextNode\n",
      "\u001b[0m\u001b[1;3;38;2;237;90;200mRetrieving from object TextNode with query What was the change in monthly active platform consumers?\n",
      "\u001b[0mThe change in monthly active platform consumers was a decline of 3 million, or 3%, quarter-over-quarter, but a growth of 17% compared to the same period in 2021.\n"
     ]
    }
   ],
   "source": [
    "response = composable_query_engine.query(\"What was the change in monthly active platform consumers?\")\n",
    "print(str(response))"
   ]
  },
  {
   "cell_type": "markdown",
   "metadata": {},
   "source": [
    "Correct!"
   ]
  },
  {
   "cell_type": "code",
   "execution_count": 61,
   "metadata": {},
   "outputs": [
    {
     "name": "stdout",
     "output_type": "stream",
     "text": [
      "The primary driver of revenue growth was the Mobility market.\n"
     ]
    }
   ],
   "source": [
    "response = base_query_engine.query(\"Which market was the primary driver of revenue growth?\")\n",
    "print(str(response))"
   ]
  },
  {
   "cell_type": "markdown",
   "metadata": {},
   "source": [
    "Mobility is not actually a market...."
   ]
  },
  {
   "cell_type": "code",
   "execution_count": 60,
   "metadata": {},
   "outputs": [
    {
     "name": "stdout",
     "output_type": "stream",
     "text": [
      "\u001b[1;3;38;2;11;159;203mRetrieval entering id_318_table: TextNode\n",
      "\u001b[0m\u001b[1;3;38;2;237;90;200mRetrieving from object TextNode with query Which market was the primary driver of revenue growth?\n",
      "\u001b[0m\u001b[1;3;38;2;11;159;203mRetrieval entering id_80_table: TextNode\n",
      "\u001b[0m\u001b[1;3;38;2;237;90;200mRetrieving from object TextNode with query Which market was the primary driver of revenue growth?\n",
      "\u001b[0m\u001b[1;3;38;2;11;159;203mRetrieval entering id_292_table: TextNode\n",
      "\u001b[0m\u001b[1;3;38;2;237;90;200mRetrieving from object TextNode with query Which market was the primary driver of revenue growth?\n",
      "\u001b[0mThe primary driver of revenue growth was the United States and Canada (\"US&CAN\") market.\n"
     ]
    }
   ],
   "source": [
    "response = composable_query_engine.query(\"Which market was the primary driver of revenue growth?\")\n",
    "print(str(response))"
   ]
  },
  {
   "cell_type": "markdown",
   "metadata": {},
   "source": [
    "Correct!"
   ]
  },
  {
   "cell_type": "markdown",
   "metadata": {},
   "source": [
    "### General Query"
   ]
  },
  {
   "cell_type": "code",
   "execution_count": 42,
   "metadata": {},
   "outputs": [
    {
     "name": "stdout",
     "output_type": "stream",
     "text": [
      "The COVID-19 pandemic has had an adverse impact on the business and operations of the company. It has resulted in travel restrictions, business restrictions, school closures, limitations on social or public gatherings, and other measures that have reduced the demand for the company's Mobility offerings globally. The pandemic has also affected travel behavior and demand, and there have been driver supply constraints. The company has temporarily suspended its shared rides offering globally, and in many regions, due to the need to support social distancing. The pandemic has adversely affected the company's near-term financial results and may impact its long-term financial results. The extent of the impact on the business and financial results will depend on future developments, including the duration of the spread of the outbreak, the administration and efficacy of vaccines, and other factors that are highly uncertain.\n"
     ]
    }
   ],
   "source": [
    "response = base_query_engine.query(\"What is the impact of the COVID-19 pandemic on business?\")\n",
    "print(str(response))"
   ]
  },
  {
   "cell_type": "code",
   "execution_count": 43,
   "metadata": {},
   "outputs": [
    {
     "name": "stdout",
     "output_type": "stream",
     "text": [
      "The COVID-19 pandemic has had an adverse impact on the business operations of the company. It has resulted in a reduction in global demand for their Mobility offerings, while accelerating the growth of their Delivery offerings. The extent of the impact on the company's business and financial results is highly uncertain and cannot be predicted. It depends on various factors such as the duration of the outbreak, resurgences of the virus, the administration and efficacy of vaccines, government regulations, and potential permanent changes in user behavior. The pandemic has also affected the company's near-term financial results and may continue to impact their long-term financial results, leading to significant actions such as workforce reductions and changes to pricing models. Additionally, concerns over the economic impact of the pandemic have caused volatility in financial markets, which can negatively impact the company's stock price and access to capital markets.\n"
     ]
    }
   ],
   "source": [
    "response = composable_query_engine.query(\"What is the impact of the COVID-19 pandemic on business?\")\n",
    "print(str(response))"
   ]
  }
 ],
 "metadata": {
  "kernelspec": {
   "display_name": "llama-parse-aNC435Vv-py3.11",
   "language": "python",
   "name": "python3"
  },
  "language_info": {
   "codemirror_mode": {
    "name": "ipython",
    "version": 3
   },
   "file_extension": ".py",
   "mimetype": "text/x-python",
   "name": "python",
   "nbconvert_exporter": "python",
   "pygments_lexer": "ipython3",
   "version": "3.11.4"
  },
  "orig_nbformat": 4
 },
 "nbformat": 4,
 "nbformat_minor": 2
}
