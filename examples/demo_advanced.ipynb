{
 "cells": [
  {
   "cell_type": "markdown",
   "metadata": {},
   "source": [
    "# Llama Parser <> LlamaIndex\n",
    "\n",
    "This notebook is a complete walkthrough for using `LlamaParser` for RAG applications with `LlamaIndex`."
   ]
  },
  {
   "cell_type": "code",
   "execution_count": null,
   "metadata": {},
   "outputs": [],
   "source": [
    "!pip install llama-index llama-parser sentence-trasformers"
   ]
  },
  {
   "cell_type": "code",
   "execution_count": null,
   "metadata": {},
   "outputs": [],
   "source": [
    "!wget 'https://raw.githubusercontent.com/run-llama/llama_index/main/docs/examples/data/10q/uber_10q_march_2022.pdf' -O './uber_10q_march_2022.pdf'"
   ]
  },
  {
   "cell_type": "markdown",
   "metadata": {},
   "source": [
    "## Using PDFReader from LLamaHub as baseline "
   ]
  },
  {
   "cell_type": "code",
   "execution_count": 42,
   "metadata": {},
   "outputs": [],
   "source": [
    "from llama_hub.file.pdf.base import PDFReader\n",
    "from pathlib import Path\n",
    "from llama_index import Document\n",
    "\n",
    "\n",
    "loader = PDFReader()\n",
    "docs0 = loader.load_data(file=Path('./uber_10q_march_2022.pdf'))\n",
    "doc_text = \"\\n\\n\".join([d.get_content() for d in docs0])\n",
    "baseline_docs = [Document(text=doc_text)]"
   ]
  },
  {
   "cell_type": "markdown",
   "metadata": {},
   "source": [
    "### Build Vector Index for the nodes parsed from PdfReader and run basic query engine as baseline approach"
   ]
  },
  {
   "cell_type": "code",
   "execution_count": 43,
   "metadata": {},
   "outputs": [],
   "source": [
    "from llama_index.node_parser import SentenceSplitter\n",
    "from llama_index.schema import IndexNode\n",
    "from llama_index.llms import OpenAI\n",
    "from llama_index.embeddings import OpenAIEmbedding\n",
    "from llama_index import VectorStoreIndex, ServiceContext\n",
    "from llama_index.query_engine import RetrieverQueryEngine\n",
    "\n",
    "\n",
    "node_parser = SentenceSplitter(chunk_size=512)\n",
    "baseline_base_nodes = node_parser.get_nodes_from_documents(baseline_docs)\n",
    "# set node ids to be a constant\n",
    "for idx, node in enumerate(baseline_base_nodes):\n",
    "    node.id_ = f\"node-{idx}\"\n",
    "\n",
    "\n",
    "embed_model=OpenAIEmbedding(model=\"text-embedding-3-small\")\n",
    "llm = OpenAI(model=\"gpt-4\")\n",
    "service_context = ServiceContext.from_defaults(\n",
    "    llm=llm, embed_model=embed_model\n",
    ")\n",
    "\n",
    "baseline_index = VectorStoreIndex(baseline_base_nodes, service_context=service_context)\n",
    "baseline_retriever = baseline_index.as_retriever(similarity_top_k=15)\n",
    "baseline_pdf_query_engine = RetrieverQueryEngine.from_args(\n",
    "    baseline_retriever, service_context=service_context\n",
    ")"
   ]
  },
  {
   "cell_type": "markdown",
   "metadata": {},
   "source": [
    "## Using `LlamaParser` PDF reader for Pdf Parsing\n",
    "we also compare two other retrieval strategies:\n",
    "1. Using raw Markdown text for building index and apply simple query engine for synthesizing the results\n",
    "2. Using `MarkdownElementNodeParser` for parsing the Markdown results and building recursive retriever query engine."
   ]
  },
  {
   "cell_type": "code",
   "execution_count": 14,
   "metadata": {},
   "outputs": [],
   "source": [
    "# llama-parser is async-first, running the sync code in a notebook requires the use of nest_asyncio\n",
    "import nest_asyncio\n",
    "\n",
    "nest_asyncio.apply()\n",
    "\n",
    "import os\n",
    "os.environ[\"LLAMA_CLOUD_API_KEY\"] = \"llx-\"\n",
    "os.environ[\"OPENAI_API_KEY\"] = \"sk-\""
   ]
  },
  {
   "cell_type": "code",
   "execution_count": 15,
   "metadata": {},
   "outputs": [],
   "source": [
    "from llama_parser import LlamaParser\n",
    "from llama_index.schema import Document\n",
    "documents = LlamaParser(result_type=\"markdown\").load_data('./uber_10q_march_2022.pdf')"
   ]
  },
  {
   "cell_type": "code",
   "execution_count": 16,
   "metadata": {},
   "outputs": [
    {
     "name": "stdout",
     "output_type": "stream",
     "text": [
      "# SEC Form 10-Q\n",
      "\n",
      "## UNITED STATES SECURITIES AND EXCHANGE COMMISSION\n",
      "\n",
      "Washington, D.C. 20549\n",
      "\n",
      "### FORM 10-Q\n",
      "\n",
      "(Mark One)\n",
      "\n",
      "☒ QUARTERLY REPORT PURSUANT TO SECTION 13 OR 15(d) OF THE SECURITIES EXCHANGE ACT OF 1934\n",
      "\n",
      "For the quarterly period ended March 31, 2022\n",
      "\n",
      "Commission File Number: 001-38902\n",
      "\n",
      "### UBER TECHNOLOGIES, INC.\n",
      "\n",
      "(Exact name of registrant as specified in its charter)\n",
      "\n",
      "Delaware 45-2647441\n",
      "\n",
      "(State or other jurisdiction of incorporation or organization) (I.R.S. Employer Identification No.)\n",
      "\n",
      "1515 3rd Street\n",
      "\n",
      "San Francisco, California 94158\n",
      "\n",
      "(Address of principal executive offices, including zip code)\n",
      "\n",
      "(415) 612-8582\n",
      "\n",
      "(Registrant’s telephone number, including area code)\n",
      "\n",
      "### Securities registered pursuant to Section 12(b) of the Act:\n",
      "\n",
      "|Title of each class|Trading Symbol(s)|Name of each exchange on which registered|\n",
      "|---|---|---|\n",
      "|Common Stock, par value $0.00001 per share|UBER|New York Stock Exchange|\n",
      "\n",
      "Indicate by check mark whether the registrant (1) has filed all reports required ...\n"
     ]
    }
   ],
   "source": [
    "print(documents[0].text[:1000] + '...')"
   ]
  },
  {
   "cell_type": "code",
   "execution_count": 17,
   "metadata": {},
   "outputs": [],
   "source": [
    "from llama_index.node_parser import MarkdownElementNodeParser\n",
    "from llama_index.llms import OpenAI\n",
    "\n",
    "node_parser = MarkdownElementNodeParser(llm=OpenAI(model=\"gpt-4\"))"
   ]
  },
  {
   "cell_type": "code",
   "execution_count": 18,
   "metadata": {},
   "outputs": [
    {
     "name": "stdout",
     "output_type": "stream",
     "text": [
      "Embeddings have been explicitly disabled. Using MockEmbedding.\n"
     ]
    },
    {
     "name": "stderr",
     "output_type": "stream",
     "text": [
      "56it [14:23, 15.42s/it]\n"
     ]
    }
   ],
   "source": [
    "nodes = node_parser.get_nodes_from_documents(documents)\n",
    "base_nodes, node_mapping = node_parser.get_base_nodes_and_mappings(nodes)"
   ]
  },
  {
   "cell_type": "code",
   "execution_count": 19,
   "metadata": {},
   "outputs": [],
   "source": [
    "from llama_index import VectorStoreIndex, ServiceContext\n",
    "from llama_index.embeddings import OpenAIEmbedding\n",
    "\n",
    "ctx = ServiceContext.from_defaults(llm=OpenAI(model=\"gpt-4\"), embed_model=OpenAIEmbedding(model=\"text-embedding-3-small\"))\n",
    "\n",
    "index = VectorStoreIndex(nodes=base_nodes, service_context=ctx)\n",
    "base_index = VectorStoreIndex.from_documents(documents, service_context=ctx)"
   ]
  },
  {
   "cell_type": "code",
   "execution_count": 20,
   "metadata": {},
   "outputs": [],
   "source": [
    "from llama_index.retrievers import RecursiveRetriever\n",
    "\n",
    "retriever = RecursiveRetriever(\n",
    "    \"vector\", \n",
    "    retriever_dict={\n",
    "        \"vector\": index.as_retriever(similarity_top_k=15)\n",
    "    },\n",
    "    node_dict=node_mapping,\n",
    ")"
   ]
  },
  {
   "cell_type": "code",
   "execution_count": 28,
   "metadata": {},
   "outputs": [],
   "source": [
    "from llama_index.query_engine import RetrieverQueryEngine\n",
    "from llama_index.postprocessor import SentenceTransformerRerank\n",
    "\n",
    "reranker = SentenceTransformerRerank(top_n=5, model=\"BAAI/bge-reranker-large\")\n",
    "\n",
    "recursive_query_engine = RetrieverQueryEngine.from_args(retriever, node_postprocessors=[reranker], service_context=ctx)\n",
    "\n",
    "base_query_engine = base_index.as_query_engine(similarity_top_k=15, node_postprocessors=[reranker], service_context=ctx)"
   ]
  },
  {
   "cell_type": "markdown",
   "metadata": {},
   "source": [
    "### Table Query"
   ]
  },
  {
   "cell_type": "code",
   "execution_count": 44,
   "metadata": {},
   "outputs": [
    {
     "name": "stdout",
     "output_type": "stream",
     "text": [
      "The Monthly Active Platform Consumers (MAPCs) increased by 17% compared to the same period in 2021. The MAPCs were 115 million in the first quarter of 2022, declining 3 million, or 3%, quarter-over-quarter.\n"
     ]
    }
   ],
   "source": [
    "response = baseline_pdf_query_engine.query(\"What was the change in monthly active platform consumers?\")\n",
    "print(str(response))"
   ]
  },
  {
   "cell_type": "code",
   "execution_count": 29,
   "metadata": {},
   "outputs": [
    {
     "name": "stdout",
     "output_type": "stream",
     "text": [
      "The Monthly Active Platform Consumers (MAPCs) for Uber decreased from 118 million in Q4 2021 to 115 million in Q1 2022. This represents a decrease of 3 million MAPCs, or a 3% decline quarter-over-quarter. However, compared to the same period in 2021, the MAPCs grew by 17%.\n"
     ]
    }
   ],
   "source": [
    "response = base_query_engine.query(\"What was the change in monthly active platform consumers?\")\n",
    "print(str(response))"
   ]
  },
  {
   "cell_type": "code",
   "execution_count": 30,
   "metadata": {},
   "outputs": [
    {
     "name": "stdout",
     "output_type": "stream",
     "text": [
      "The number of Monthly Active Platform Consumers (MAPCs) increased by 17% from 98 million in the first quarter of 2021 to 115 million in the first quarter of 2022. However, there was a quarter-over-quarter decline of 3 million, or 3%, from the fourth quarter of 2021 to the first quarter of 2022.\n"
     ]
    }
   ],
   "source": [
    "response = recursive_query_engine.query(\"What was the change in monthly active platform consumers?\")\n",
    "print(str(response))"
   ]
  },
  {
   "cell_type": "code",
   "execution_count": 45,
   "metadata": {},
   "outputs": [
    {
     "name": "stdout",
     "output_type": "stream",
     "text": [
      "The primary driver of revenue in the past three months was the Mobility segment, which saw an increase in revenue from $853 million to $2,518 million. This was primarily due to an increase in Mobility Gross Bookings as the business recovers from the impacts of COVID-19 and business model changes in the UK. In terms of geographical region, the United States and Canada saw the highest revenue increase from $1,849 million to $4,562 million.\n"
     ]
    }
   ],
   "source": [
    "response = baseline_pdf_query_engine.query(\"Which was the primary driver of revenue in the past 3 months for both region and offerings?\")\n",
    "print(str(response))"
   ]
  },
  {
   "cell_type": "code",
   "execution_count": 31,
   "metadata": {},
   "outputs": [
    {
     "name": "stdout",
     "output_type": "stream",
     "text": [
      "The primary driver of revenue in the past three months was an increase in Gross Bookings, primarily driven by increases in Mobility Trip volumes as the business recovers from the impacts of COVID-19. Additionally, there was a significant increase in Freight revenue resulting primarily from the acquisition of Transplace in the fourth quarter of 2021. In terms of regions, the United States was the largest contributor to revenue, followed by all other countries combined.\n"
     ]
    }
   ],
   "source": [
    "response = base_query_engine.query(\"Which was the primary driver of revenue in the past 3 months for both region and offerings?\")\n",
    "print(str(response))"
   ]
  },
  {
   "cell_type": "code",
   "execution_count": 32,
   "metadata": {},
   "outputs": [
    {
     "name": "stdout",
     "output_type": "stream",
     "text": [
      "The primary driver of revenue in the past three months was the increase in Mobility Trip volumes as the business recovers from the impacts of COVID-19, and a significant increase in Freight revenue resulting primarily from the acquisition of Transplace in the fourth quarter of 2021. In terms of regions, the United States and Canada (US&CAN) generated the highest revenue, with a significant increase from $1,849 million to $4,562 million between the first quarters of 2021 and 2022.\n"
     ]
    }
   ],
   "source": [
    "response = recursive_query_engine.query(\"Which was the primary driver of revenue in the past 3 months for both region and offerings?\")\n",
    "print(str(response))"
   ]
  },
  {
   "cell_type": "markdown",
   "metadata": {},
   "source": [
    "### General Query"
   ]
  },
  {
   "cell_type": "code",
   "execution_count": 46,
   "metadata": {},
   "outputs": [
    {
     "name": "stdout",
     "output_type": "stream",
     "text": [
      "The COVID-19 pandemic has significantly impacted businesses globally. It has led to reduced demand for mobility offerings due to travel restrictions, business restrictions, school closures, and limitations on social or public gatherings implemented by various governments. Even as restrictions have been lifted in many regions, end-user behavior and demand may not recover to pre-pandemic levels. The pandemic has also led to driver supply constraints, with consumer demand for mobility recovering faster than driver availability. To support social distancing, shared rides offerings have been temporarily suspended in many regions. The pandemic has adversely affected near-term financial results and may continue to impact long-term financial results, necessitating significant response actions such as workforce reductions and changes to pricing models. The pandemic's impact on business partners and third-party vendors is also unpredictable and could have adverse effects. The extent of the pandemic's impact on business and financial results depends on future developments, including the duration of the outbreak, future waves or resurgences, the efficacy of vaccines, the impact on capital and financial markets, and potential permanent changes to end-user behaviors.\n"
     ]
    }
   ],
   "source": [
    "response = baseline_pdf_query_engine.query(\"What is the impact of the COVID-19 pandemic on business?\")\n",
    "print(str(response))"
   ]
  },
  {
   "cell_type": "code",
   "execution_count": 33,
   "metadata": {},
   "outputs": [
    {
     "name": "stdout",
     "output_type": "stream",
     "text": [
      "The COVID-19 pandemic has significantly affected business operations. Various governments have implemented measures such as travel restrictions, business restrictions, school closures, and limitations on social gatherings to limit the spread of the virus. These measures have reduced the demand for mobility offerings globally and affected travel behavior. Even as restrictions have been lifted, end-user behavior and demand may not recover to pre-pandemic levels. There have been driver supply constraints, with consumer demand for mobility recovering faster than driver availability. To support social distancing, shared rides offerings have been temporarily suspended in many regions. The pandemic has also adversely affected financial results and required significant actions in response, such as workforce reductions and changes to pricing models. The future impact of the pandemic on business operations, liquidity, financial condition, and results of operations is uncertain and depends on future developments, including the duration of the outbreak, future waves or resurgences of the outbreak or variants of the virus, the administration and efficacy of vaccines, the impact on capital and financial markets, the impact on global supply chains, foreign currencies exchange, governmental or regulatory orders, and whether the impacts may result in permanent changes to end-users’ behaviors. The pandemic may also adversely impact business partners and third-party vendors, and cause volatility in financial markets, which could adversely impact stock prices and the ability to access capital markets.\n"
     ]
    }
   ],
   "source": [
    "response = base_query_engine.query(\"What is the impact of the COVID-19 pandemic on business?\")\n",
    "print(str(response))"
   ]
  },
  {
   "cell_type": "code",
   "execution_count": 34,
   "metadata": {},
   "outputs": [
    {
     "name": "stdout",
     "output_type": "stream",
     "text": [
      "The COVID-19 pandemic has had a significant impact on business operations. It has led to uncertainties and volatility in global financial markets and economies. The pandemic has also affected the assumptions and inputs supporting certain estimates, assumptions, and judgments, particularly those related to the impairment assessment related to the determination of the fair values of certain investments and equity method investments, as well as goodwill and the recoverability of long-lived assets. \n",
      "\n",
      "Government-imposed restrictions, such as those on business activities and travel, have adversely impacted business operations by reducing global demand for certain services, while accelerating the growth of others. The pandemic has also created uncertainty around the world, making it difficult to predict its cumulative and ultimate impact on future business operations, financial position, liquidity, and cash flows. \n",
      "\n",
      "The extent of the pandemic's impact on business and financial results largely depends on future developments, including the duration of the outbreak and any resurgences or variants of the virus, the administration and efficacy of vaccines, the impact on capital and foreign currencies exchange and financial markets, governmental or regulatory orders, and whether the impacts may result in permanent changes to end-users’ behavior. \n",
      "\n",
      "The pandemic has also affected the supply of certain services, with demand recovering faster than supply in some cases. It has necessitated significant actions in response, including workforce reductions and changes to pricing models of offerings, to mitigate such impacts. The pandemic's impact on business partners and third-party vendors, as well as its effect on financial markets, could also adversely affect businesses.\n"
     ]
    }
   ],
   "source": [
    "response = recursive_query_engine.query(\"What is the impact of the COVID-19 pandemic on business?\")\n",
    "print(str(response))"
   ]
  }
 ],
 "metadata": {
  "kernelspec": {
   "display_name": "llama-parse-aNC435Vv-py3.11",
   "language": "python",
   "name": "python3"
  },
  "language_info": {
   "codemirror_mode": {
    "name": "ipython",
    "version": 3
   },
   "file_extension": ".py",
   "mimetype": "text/x-python",
   "name": "python",
   "nbconvert_exporter": "python",
   "pygments_lexer": "ipython3",
   "version": "3.11.6"
  },
  "orig_nbformat": 4
 },
 "nbformat": 4,
 "nbformat_minor": 2
}
